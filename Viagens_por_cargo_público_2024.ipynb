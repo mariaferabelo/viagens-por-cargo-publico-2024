{
  "nbformat": 4,
  "nbformat_minor": 0,
  "metadata": {
    "colab": {
      "provenance": [],
      "mount_file_id": "1IP-Nx_tQwi80NzMrVcIDxu_ZelXfGmse",
      "authorship_tag": "ABX9TyOw/xTGH05ZJSGGc0BRshGk",
      "include_colab_link": true
    },
    "kernelspec": {
      "name": "python3",
      "display_name": "Python 3"
    },
    "language_info": {
      "name": "python"
    }
  },
  "cells": [
    {
      "cell_type": "markdown",
      "metadata": {
        "id": "view-in-github",
        "colab_type": "text"
      },
      "source": [
        "<a href=\"https://colab.research.google.com/github/mariaferabelo/viagens-por-cargo-publico-2024/blob/main/Viagens_por_cargo_p%C3%BAblico_2024.ipynb\" target=\"_parent\"><img src=\"https://colab.research.google.com/assets/colab-badge.svg\" alt=\"Open In Colab\"/></a>"
      ]
    },
    {
      "cell_type": "code",
      "source": [
        "caminho_dados = \"/content/drive/MyDrive/CursoPython/2024_Viagem.csv\"\n",
        "caminho_saida_tabela = \"/content/drive/MyDrive/CursoPython/Output/tabela_2024.xlsx\"\n",
        "caminho_saida_grafico = \"/content/drive/MyDrive/CursoPython/Output/grafico_2024.png\""
      ],
      "metadata": {
        "id": "jJU8k08hA_XQ"
      },
      "execution_count": null,
      "outputs": []
    },
    {
      "cell_type": "code",
      "source": [
        "import pandas as pd\n",
        "\n",
        "pd.set_option('display.max_columns', None)\n",
        "pd.set_option('display.float_format', '{:.2f}'.format)\n",
        "\n",
        "# Lê os dados\n",
        "df_viagens = pd.read_csv(caminho_dados, encoding=\"Windows-1252\", sep=\";\", decimal = \",\")\n",
        "\n",
        "# Cria nova coluna de despesas\n",
        "df_viagens['Despesas'] = df_viagens['Valor diárias'] + df_viagens['Valor passagens'] + df_viagens['Valor outros gastos']\n",
        "\n",
        "# Ajusta valores nulos na coluna de cargo\n",
        "df_viagens['Cargo'] = df_viagens['Cargo'].fillna('NÃO IDENTIFICADO')\n",
        "\n",
        "# Converte colunas de datas\n",
        "df_viagens['Período - Data de início'] = pd.to_datetime(df_viagens['Período - Data de início'], format='%d/%m/%Y')\n",
        "df_viagens['Período - Data de fim'] = pd.to_datetime(df_viagens['Período - Data de fim'], format='%d/%m/%Y')\n",
        "\n",
        "# Cria novas colunas de data\n",
        "df_viagens['Mês da viagem'] = df_viagens['Período - Data de início'].dt.month_name()\n",
        "df_viagens['Dias de viagem'] = (df_viagens['Período - Data de fim'] - df_viagens['Período - Data de início']).dt.days"
      ],
      "metadata": {
        "id": "j5_vitCLBewR"
      },
      "execution_count": null,
      "outputs": []
    },
    {
      "cell_type": "code",
      "source": [
        "# Cria tabela consolidada\n",
        "df_viagens_consolidado = (df_viagens\n",
        " .groupby('Cargo')\n",
        " .agg(despesa_media=('Despesas', 'mean'),\n",
        "      duracao_media=('Dias de viagem', 'mean'),\n",
        "      depesas_totais=('Despesas', 'sum'),\n",
        "      destino_mais_frequente=('Destinos', pd.Series.mode),\n",
        "      n_viagens=('Nome', 'count')\n",
        "      )\n",
        " .reset_index()\n",
        " #.sort_values(by='despesas_totais', ascending=False)\n",
        " )\n",
        "\n",
        "# Filtra tabela consolidada por cargos relevantes, que são os que representam mais de 1% das viagens\n",
        "df_cargos = df_viagens['Cargo'].value_counts(normalize=True).reset_index()\n",
        "cargos_relevantes = df_cargos.loc[df_cargos['proportion'] > 0.01, 'Cargo']\n",
        "filtro = df_viagens_consolidado['Cargo'].isin(cargos_relevantes)\n",
        "\n",
        "# Tabela final filtrada\n",
        "df_final = df_viagens_consolidado[filtro].sort_values(by='n_viagens', ascending=False)\n",
        "\n",
        "# Salvar tabela final\n",
        "df_final.to_excel(caminho_saida_tabela, index=False)"
      ],
      "metadata": {
        "id": "hLnMF58Dc39P"
      },
      "execution_count": null,
      "outputs": []
    },
    {
      "cell_type": "code",
      "source": [
        "import matplotlib.pyplot as plt\n",
        "\n",
        "# Cria a figura\n",
        "fig, ax = plt.subplots(figsize=(16, 6))\n",
        "\n",
        "# Plota o gráfico\n",
        "ax.barh(df_final['Cargo'], df_final['n_viagens'], color='#058261')\n",
        "ax.invert_yaxis()\n",
        "\n",
        "# Ajusta o gráfico\n",
        "ax.set_facecolor('black')\n",
        "fig.suptitle('Viagens por cargo público 2024')\n",
        "plt.figtext(0.75, 0.89, 'Fonte: Portal da Transparência')\n",
        "plt.grid(color='gray', linestyle='--', linewidth=0.5)\n",
        "plt.yticks(fontsize=8)\n",
        "plt.xlabel('Número de viagens')\n",
        "plt.ylabel('Cargo')\n",
        "\n",
        "# Exibe o gráfico\n",
        "plt.savefig(caminho_saida_grafico, bbox_inches='tight')"
      ],
      "metadata": {
        "id": "IBZ6SlMDjAdf"
      },
      "execution_count": null,
      "outputs": []
    }
  ]
}